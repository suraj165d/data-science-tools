{
 "cells": [
  {
   "cell_type": "markdown",
   "id": "486fd5d0",
   "metadata": {},
   "source": [
    "# Data Science And Ecosystem"
   ]
  },
  {
   "cell_type": "markdown",
   "id": "5c87bcd8",
   "metadata": {},
   "source": [
    "In this notebook, data science tool ans ecosystem are samarized"
   ]
  },
  {
   "cell_type": "markdown",
   "id": "82bf9665",
   "metadata": {},
   "source": [
    "some popular languages that data science use\n",
    "  1.python\n",
    "  2.sql\n",
    "  3.c++\n",
    "  4.java"
   ]
  },
  {
   "cell_type": "markdown",
   "id": "ba48287a",
   "metadata": {},
   "source": [
    "some of the commoon used libraries used in data science\n",
    "NumPy\n",
    "Scipy\n",
    "pandas\n",
    "keras\n",
    "matplotlib\n",
    "pytorch"
   ]
  },
  {
   "cell_type": "code",
   "execution_count": 2,
   "id": "c554420f",
   "metadata": {},
   "outputs": [
    {
     "ename": "SyntaxError",
     "evalue": "invalid syntax (3221795561.py, line 1)",
     "output_type": "error",
     "traceback": [
      "\u001b[1;36m  Cell \u001b[1;32mIn[2], line 1\u001b[1;36m\u001b[0m\n\u001b[1;33m    | Tool           | Purpose                                     |\u001b[0m\n\u001b[1;37m    ^\u001b[0m\n\u001b[1;31mSyntaxError\u001b[0m\u001b[1;31m:\u001b[0m invalid syntax\n"
     ]
    }
   ],
   "source": [
    "\n",
    "\n",
    "| Tool           | Purpose                                     |\n",
    "| -------------- | ------------------------------------------- |\n",
    "| Jupyter        | Interactive notebooks for code and analysis |\n",
    "| VS Code        | Integrated development environment (IDE )   |\n",
    "| Git/GitHub     | Version control and collaboration           |\n",
    "| Tableau        | Data visualization and exploration          |\n",
    "| Databricks     | Cloud-based big data analytics platform     |\n",
    "| RStudio        | IDE for R programming                        |\n",
    "| Spyder         | Scientific Python development environment   |\n",
    "| KNIME          | Open-source data analytics platform          |\n",
    "| Orange         | Visual programming for data science          |\n",
    "| RapidMiner     | Predictive analytics and machine learning    |\n",
    "\n"
   ]
  },
  {
   "cell_type": "markdown",
   "id": "f32570c5",
   "metadata": {},
   "source": [
    "###### Below are few examples of Arithmetic Expressions in python\n"
   ]
  },
  {
   "cell_type": "code",
   "execution_count": 3,
   "id": "3aa0aaf7",
   "metadata": {},
   "outputs": [
    {
     "name": "stdout",
     "output_type": "stream",
     "text": [
      "Product: 15\n",
      "Sum: 8\n"
     ]
    }
   ],
   "source": [
    "# Example: Multiply and add numbers\n",
    "a = 5\n",
    "b = 3\n",
    "product = a * b\n",
    "sum_result = a + b\n",
    "\n",
    "print(f\"Product: {product}\")\n",
    "print(f\"Sum: {sum_result}\")\n"
   ]
  },
  {
   "cell_type": "code",
   "execution_count": 4,
   "id": "cb5c7dd8",
   "metadata": {},
   "outputs": [
    {
     "name": "stdout",
     "output_type": "stream",
     "text": [
      "150 minutes = 2.50 hours\n",
      "150 minutes = 2.50 hours\n"
     ]
    }
   ],
   "source": [
    "# Convert minutes to hours\n",
    "minutes = 150\n",
    "hours = minutes / 60\n",
    "\n",
    "print(f\"{minutes} minutes = {hours:.2f} hours\")\n",
    "# Convert minutes to hours\n",
    "minutes = 150\n",
    "hours = minutes / 60\n",
    "\n",
    "print(f\"{minutes} minutes = {hours:.2f} hours\")\n"
   ]
  },
  {
   "cell_type": "markdown",
   "id": "74ebfb29",
   "metadata": {},
   "source": [
    "___objective___\n",
    "\n",
    "List popular languages for data science\n",
    "List popular libraries for data science\n",
    "List of well known data science tools\n",
    "how to provide commentsin the cell"
   ]
  },
  {
   "cell_type": "markdown",
   "id": "3e23a35d",
   "metadata": {},
   "source": [
    "#### Author\n",
    "Suraj Dey"
   ]
  }
 ],
 "metadata": {
  "kernelspec": {
   "display_name": "Python 3 (ipykernel)",
   "language": "python",
   "name": "python3"
  },
  "language_info": {
   "codemirror_mode": {
    "name": "ipython",
    "version": 3
   },
   "file_extension": ".py",
   "mimetype": "text/x-python",
   "name": "python",
   "nbconvert_exporter": "python",
   "pygments_lexer": "ipython3",
   "version": "3.11.5"
  }
 },
 "nbformat": 4,
 "nbformat_minor": 5
}
